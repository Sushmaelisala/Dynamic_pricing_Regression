{
 "cells": [
  {
   "cell_type": "code",
   "execution_count": null,
   "id": "a120b02d-87bd-4b03-915b-33aa39c67978",
   "metadata": {},
   "outputs": [],
   "source": [
    "num = int(input(\"10\"))\n",
    "if num>0:\n",
    "    prin(\"positive\")\n",
    "elif num<0:\n",
    "    print(\"negative\")\n",
    "else:\n",
    "    print(\"zero\")\n"
   ]
  },
  {
   "cell_type": "code",
   "execution_count": null,
   "id": "91dfd4e0-82f6-4330-a243-c1138ceb1ac5",
   "metadata": {},
   "outputs": [],
   "source": []
  },
  {
   "cell_type": "code",
   "execution_count": null,
   "id": "f0597fc2-4bbc-4955-9163-08820f839ecd",
   "metadata": {},
   "outputs": [],
   "source": [
    "l =[10,20,30,40,50]\n",
    "num = int(nput(\"20\"))\n",
    "if num in l:\n",
    "    print(num,\"was in list\")\n",
    "else:\n",
    "    print(num,\"was not in list\")\n"
   ]
  },
  {
   "cell_type": "code",
   "execution_count": null,
   "id": "c1a28483-6380-4f15-9fba-0b1ff24fcfba",
   "metadata": {},
   "outputs": [],
   "source": []
  },
  {
   "cell_type": "code",
   "execution_count": null,
   "id": "d86c23c2-6b18-4c68-9128-c85e53e47632",
   "metadata": {},
   "outputs": [],
   "source": []
  },
  {
   "cell_type": "code",
   "execution_count": null,
   "id": "026a0cbc-91b9-47bc-83d5-2e11aa746964",
   "metadata": {},
   "outputs": [],
   "source": []
  },
  {
   "cell_type": "code",
   "execution_count": null,
   "id": "38a6e8bf-d5da-41bb-bfc8-2a1dc1966465",
   "metadata": {},
   "outputs": [],
   "source": []
  },
  {
   "cell_type": "code",
   "execution_count": null,
   "id": "e7ac221e-64a7-48f3-89fd-0ca8fad2323c",
   "metadata": {},
   "outputs": [],
   "source": []
  },
  {
   "cell_type": "code",
   "execution_count": null,
   "id": "46efc45b-7855-4eb8-9143-9213fa209b14",
   "metadata": {},
   "outputs": [],
   "source": []
  },
  {
   "cell_type": "code",
   "execution_count": null,
   "id": "bbbf230b-50fc-4801-85de-91958df5da8a",
   "metadata": {},
   "outputs": [],
   "source": []
  },
  {
   "cell_type": "code",
   "execution_count": null,
   "id": "709fc717-a34b-435e-b3d7-da529fffae34",
   "metadata": {},
   "outputs": [],
   "source": []
  },
  {
   "cell_type": "code",
   "execution_count": null,
   "id": "17e1bb0c-fd86-409e-8ac0-9e85526bc33e",
   "metadata": {},
   "outputs": [],
   "source": []
  },
  {
   "cell_type": "code",
   "execution_count": null,
   "id": "a4937bce-87b4-48f1-b13a-54eb11a69b11",
   "metadata": {},
   "outputs": [],
   "source": []
  },
  {
   "cell_type": "code",
   "execution_count": null,
   "id": "2f00ff47-6a54-492c-b5c1-2ef27665ebb5",
   "metadata": {},
   "outputs": [],
   "source": []
  },
  {
   "cell_type": "code",
   "execution_count": null,
   "id": "3fcd46e4-ff11-49cb-b13d-c4516b812239",
   "metadata": {},
   "outputs": [],
   "source": []
  },
  {
   "cell_type": "code",
   "execution_count": null,
   "id": "aad2ca03-37ae-4ef6-937d-87bec2596e27",
   "metadata": {},
   "outputs": [],
   "source": []
  },
  {
   "cell_type": "code",
   "execution_count": null,
   "id": "529a0dff-d2f3-4b1f-942f-7d6207b9493b",
   "metadata": {},
   "outputs": [],
   "source": []
  },
  {
   "cell_type": "code",
   "execution_count": null,
   "id": "d9e36bf5-00a0-4352-b198-05eee917497c",
   "metadata": {},
   "outputs": [],
   "source": []
  },
  {
   "cell_type": "code",
   "execution_count": null,
   "id": "d5d4215c-fa80-4325-8241-c71aaf53febb",
   "metadata": {},
   "outputs": [],
   "source": []
  }
 ],
 "metadata": {
  "kernelspec": {
   "display_name": "Python [conda env:base] *",
   "language": "python",
   "name": "conda-base-py"
  },
  "language_info": {
   "codemirror_mode": {
    "name": "ipython",
    "version": 3
   },
   "file_extension": ".py",
   "mimetype": "text/x-python",
   "name": "python",
   "nbconvert_exporter": "python",
   "pygments_lexer": "ipython3",
   "version": "3.12.7"
  }
 },
 "nbformat": 4,
 "nbformat_minor": 5
}
